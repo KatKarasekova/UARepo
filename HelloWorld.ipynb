{
 "cells": [
  {
   "cell_type": "code",
   "execution_count": 1,
   "id": "0fa35e55-99a3-49b7-b140-8fb9bc03a723",
   "metadata": {},
   "outputs": [
    {
     "name": "stdout",
     "output_type": "stream",
     "text": [
      "Hello, world!\n"
     ]
    }
   ],
   "source": [
    "print(\"Hello, world!\")"
   ]
  },
  {
   "cell_type": "markdown",
   "id": "b4e0deb8-2ea6-4064-b4ca-13776339e365",
   "metadata": {},
   "source": [
    "# My first markdown"
   ]
  },
  {
   "cell_type": "markdown",
   "id": "528b4e35-b767-4cab-a7d8-6797b7c0fc5d",
   "metadata": {},
   "source": [
    "## Second Markdown"
   ]
  },
  {
   "cell_type": "markdown",
   "id": "ad519b9d-684a-46b5-a14c-4f1f0998d864",
   "metadata": {},
   "source": [
    "Some **bold** text"
   ]
  },
  {
   "cell_type": "markdown",
   "id": "dd740b02-f8bb-4bcb-899c-1a72f9bad05a",
   "metadata": {},
   "source": [
    "1. List\n",
    "2. List\n",
    "3. List"
   ]
  },
  {
   "cell_type": "code",
   "execution_count": 2,
   "id": "ef7bb230-9f8d-422b-8d2b-3ef4cca0ee05",
   "metadata": {},
   "outputs": [
    {
     "name": "stdout",
     "output_type": "stream",
     "text": [
      "10\n"
     ]
    }
   ],
   "source": [
    "my_var = 5\n",
    "result = my_var * 2\n",
    "print(result)"
   ]
  },
  {
   "cell_type": "code",
   "execution_count": null,
   "id": "d2f8cd49-58a3-4656-8955-99c3e46b6196",
   "metadata": {},
   "outputs": [],
   "source": []
  }
 ],
 "metadata": {
  "kernelspec": {
   "display_name": "Python 3 (ipykernel)",
   "language": "python",
   "name": "python3"
  },
  "language_info": {
   "codemirror_mode": {
    "name": "ipython",
    "version": 3
   },
   "file_extension": ".py",
   "mimetype": "text/x-python",
   "name": "python",
   "nbconvert_exporter": "python",
   "pygments_lexer": "ipython3",
   "version": "3.10.13"
  }
 },
 "nbformat": 4,
 "nbformat_minor": 5
}
